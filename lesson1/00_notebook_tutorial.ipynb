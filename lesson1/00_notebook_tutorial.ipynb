{
  "nbformat": 4,
  "nbformat_minor": 0,
  "metadata": {
    "kernelspec": {
      "display_name": "Python 3",
      "language": "python",
      "name": "python3"
    },
    "colab": {
      "name": "00_notebook_tutorial.ipynb",
      "version": "0.3.2",
      "provenance": [],
      "include_colab_link": true
    }
  },
  "cells": [
    {
      "cell_type": "markdown",
      "metadata": {
        "id": "view-in-github",
        "colab_type": "text"
      },
      "source": [
        "<a href=\"https://colab.research.google.com/github/AmrMKayid/KayFast/blob/master/00_notebook_tutorial.ipynb\" target=\"_parent\"><img src=\"https://colab.research.google.com/assets/colab-badge.svg\" alt=\"Open In Colab\"/></a>"
      ]
    },
    {
      "cell_type": "markdown",
      "metadata": {
        "id": "E_lkxS--vOQu",
        "colab_type": "text"
      },
      "source": [
        "**Important note:** You should always work on a duplicate of the course notebook. On the page you used to open this, tick the box next to the name of the notebook and click duplicate to easily create a new version of this notebook.\n",
        "\n",
        "You will get errors each time you try to update your course repository if you don't do this, and your changes will end up being erased by the original course version."
      ]
    },
    {
      "cell_type": "markdown",
      "metadata": {
        "id": "4DBYNooPvOQv",
        "colab_type": "text"
      },
      "source": [
        "# Welcome to Jupyter Notebooks!"
      ]
    },
    {
      "cell_type": "markdown",
      "metadata": {
        "id": "rYDfdhIZvOQw",
        "colab_type": "text"
      },
      "source": [
        "If you want to learn how to use this tool you've come to the right place. This article will teach you all you need to know to use Jupyter Notebooks effectively. You only need to go through Section 1 to learn the basics and you can go into Section 2 if you want to further increase your productivity."
      ]
    },
    {
      "cell_type": "markdown",
      "metadata": {
        "id": "MWAxDI_xvOQx",
        "colab_type": "text"
      },
      "source": [
        "You might be reading this tutorial in a web page (maybe Github or the course's webpage). We strongly suggest to read this tutorial in a (yes, you guessed it) Jupyter Notebook. This way you will be able to actually *try* the different commands we will introduce here."
      ]
    },
    {
      "cell_type": "markdown",
      "metadata": {
        "id": "uTLLNbLovOQx",
        "colab_type": "text"
      },
      "source": [
        "## Section 1: Need to Know"
      ]
    },
    {
      "cell_type": "markdown",
      "metadata": {
        "id": "ge_auAVOvOQy",
        "colab_type": "text"
      },
      "source": [
        "### Introduction"
      ]
    },
    {
      "cell_type": "markdown",
      "metadata": {
        "id": "IHSEJ0-VvOQz",
        "colab_type": "text"
      },
      "source": [
        "Let's build up from the basics, what is a Jupyter Notebook? Well, you are reading one. It is a document made of cells. You can write like I am writing now (markdown cells) or you can perform calculations in Python (code cells) and run them like this:"
      ]
    },
    {
      "cell_type": "code",
      "metadata": {
        "id": "n-yhOpOKvOQz",
        "colab_type": "code",
        "outputId": "d15d7b19-168f-4173-c0bf-1dbfbd4def29",
        "colab": {
          "base_uri": "https://localhost:8080/",
          "height": 34
        }
      },
      "source": [
        "1+1"
      ],
      "execution_count": 0,
      "outputs": [
        {
          "output_type": "execute_result",
          "data": {
            "text/plain": [
              "2"
            ]
          },
          "metadata": {
            "tags": []
          },
          "execution_count": 1
        }
      ]
    },
    {
      "cell_type": "markdown",
      "metadata": {
        "id": "TW4vZunYvOQ2",
        "colab_type": "text"
      },
      "source": [
        "Cool huh? This combination of prose and code makes Jupyter Notebook ideal for experimentation: we can see the rationale for each experiment, the code and the results in one comprehensive document. In fast.ai, each lesson is documented in a notebook and you can later use that notebook to experiment yourself. \n",
        "\n",
        "Other renowned institutions in academy and industry use Jupyter Notebook: Google, Microsoft, IBM, Bloomberg, Berkeley and NASA among others. Even Nobel-winning economists [use Jupyter Notebooks](https://paulromer.net/jupyter-mathematica-and-the-future-of-the-research-paper/)  for their experiments and some suggest that Jupyter Notebooks will be the [new format for research papers](https://www.theatlantic.com/science/archive/2018/04/the-scientific-paper-is-obsolete/556676/)."
      ]
    },
    {
      "cell_type": "markdown",
      "metadata": {
        "id": "NR5WJ6GjvOQ3",
        "colab_type": "text"
      },
      "source": [
        "### Writing"
      ]
    },
    {
      "cell_type": "markdown",
      "metadata": {
        "id": "1u2BAFy3vOQ4",
        "colab_type": "text"
      },
      "source": [
        "A type of cell in which you can write like this is called _Markdown_. [_Markdown_](https://en.wikipedia.org/wiki/Markdown) is a very popular markup language. To specify that a cell is _Markdown_ you need to click in the drop-down menu in the toolbar and select _Markdown_."
      ]
    },
    {
      "cell_type": "markdown",
      "metadata": {
        "id": "wTB1iiRKvOQ5",
        "colab_type": "text"
      },
      "source": [
        "Click on the the '+' button on the left and select _Markdown_ from the toolbar."
      ]
    },
    {
      "cell_type": "markdown",
      "metadata": {
        "id": "r4TRTJ6hvOQ5",
        "colab_type": "text"
      },
      "source": [
        "Now you can type your first _Markdown_ cell. Write 'My first markdown cell' and press run."
      ]
    },
    {
      "cell_type": "markdown",
      "metadata": {
        "id": "3uw7QtTavOQ6",
        "colab_type": "text"
      },
      "source": [
        "![add](https://github.com/fastai/course-v3/blob/master/nbs/dl1/images/notebook_tutorial/add.png?raw=1)"
      ]
    },
    {
      "cell_type": "markdown",
      "metadata": {
        "id": "Mi_np2XTvOQ7",
        "colab_type": "text"
      },
      "source": [
        "You should see something like this:"
      ]
    },
    {
      "cell_type": "markdown",
      "metadata": {
        "id": "ehnhz1YLvOQ8",
        "colab_type": "text"
      },
      "source": [
        "My first markdown cell"
      ]
    },
    {
      "cell_type": "markdown",
      "metadata": {
        "id": "s3iFTwnxvOQ8",
        "colab_type": "text"
      },
      "source": [
        "Now try making your first _Code_ cell: follow the same steps as before but don't change the cell type (when you add a cell its default type is _Code_). Type something like 3/2. You should see '1.5' as output."
      ]
    },
    {
      "cell_type": "code",
      "metadata": {
        "id": "FMAV7yszvOQ9",
        "colab_type": "code",
        "outputId": "7e0a8c6b-d2dd-4d67-a2c8-df48b959ae7f",
        "colab": {
          "base_uri": "https://localhost:8080/",
          "height": 34
        }
      },
      "source": [
        "3/2"
      ],
      "execution_count": 0,
      "outputs": [
        {
          "output_type": "execute_result",
          "data": {
            "text/plain": [
              "1.5"
            ]
          },
          "metadata": {
            "tags": []
          },
          "execution_count": 2
        }
      ]
    },
    {
      "cell_type": "markdown",
      "metadata": {
        "id": "6swzKvPBvOQ_",
        "colab_type": "text"
      },
      "source": [
        "### Modes"
      ]
    },
    {
      "cell_type": "markdown",
      "metadata": {
        "id": "j_ayHIKdvORA",
        "colab_type": "text"
      },
      "source": [
        "If you made a mistake in your *Markdown* cell and you have already ran it, you will notice that you cannot edit it just by clicking on it. This is because you are in **Command Mode**. Jupyter Notebooks have two distinct modes:\n",
        "\n",
        "1. **Edit Mode**: Allows you to edit a cell's content.\n",
        "\n",
        "2. **Command Mode**: Allows you to edit the notebook as a whole and use keyboard shortcuts but not edit a cell's content. \n",
        "\n",
        "You can toggle between these two by either pressing <kbd>ESC</kbd> and <kbd>Enter</kbd> or clicking outside a cell or inside it (you need to double click if its a Markdown cell). You can always know which mode you're on since the current cell has a green border if in **Edit Mode** and a blue border in **Command Mode**. Try it!"
      ]
    },
    {
      "cell_type": "markdown",
      "metadata": {
        "id": "Ljv_qMbMvORB",
        "colab_type": "text"
      },
      "source": [
        "### Other Important Considerations"
      ]
    },
    {
      "cell_type": "markdown",
      "metadata": {
        "id": "yorpfLiwvORC",
        "colab_type": "text"
      },
      "source": [
        "1. Your notebook is autosaved every 120 seconds. If you want to manually save it you can just press the save button on the upper left corner or press <kbd>s</kbd> in **Command Mode**."
      ]
    },
    {
      "cell_type": "markdown",
      "metadata": {
        "id": "BTsqwg81vORD",
        "colab_type": "text"
      },
      "source": [
        "![Save](https://github.com/fastai/course-v3/blob/master/nbs/dl1/images/notebook_tutorial/save.png?raw=1)"
      ]
    },
    {
      "cell_type": "markdown",
      "metadata": {
        "id": "nyoEy3mOvORE",
        "colab_type": "text"
      },
      "source": [
        "2. To know if your kernel is computing or not you can check the dot in your upper right corner. If the dot is full, it means that the kernel is working. If not, it is idle. You can place the mouse on it and see the state of the kernel be displayed."
      ]
    },
    {
      "cell_type": "markdown",
      "metadata": {
        "id": "0XTJrTTSvORG",
        "colab_type": "text"
      },
      "source": [
        "![Busy](https://github.com/fastai/course-v3/blob/master/nbs/dl1/images/notebook_tutorial/busy.png?raw=1)"
      ]
    },
    {
      "cell_type": "markdown",
      "metadata": {
        "id": "rfsRwuKgvORI",
        "colab_type": "text"
      },
      "source": [
        "3. There are a couple of shortcuts you must know about which we use **all** the time (always in **Command Mode**). These are:\n",
        "\n",
        "<kbd>Shift</kbd>+<kbd>Enter</kbd>: Runs the code or markdown on a cell\n",
        "\n",
        "<kbd>Up Arrow</kbd>+<kbd>Down Arrow</kbd>: Toggle across cells\n",
        "\n",
        "<kbd>b</kbd>: Create new cell\n",
        "\n",
        "<kbd>0</kbd>+<kbd>0</kbd>: Reset Kernel\n",
        "\n",
        "You can find more shortcuts in the Shortcuts section below."
      ]
    },
    {
      "cell_type": "markdown",
      "metadata": {
        "id": "Z0d6EIbGvORJ",
        "colab_type": "text"
      },
      "source": [
        "4. You may need to use a terminal in a Jupyter Notebook environment (for example to git pull on a repository). That is very easy to do, just press 'New' in your Home directory and 'Terminal'. Don't know how to use the Terminal? We made a tutorial for that as well. You can find it [here](https://course.fast.ai/terminal_tutorial.html)."
      ]
    },
    {
      "cell_type": "markdown",
      "metadata": {
        "id": "HgYTrjrEvORJ",
        "colab_type": "text"
      },
      "source": [
        "![Terminal](https://github.com/fastai/course-v3/blob/master/nbs/dl1/images/notebook_tutorial/terminal.png?raw=1)"
      ]
    },
    {
      "cell_type": "markdown",
      "metadata": {
        "id": "qEIiBMiVvORK",
        "colab_type": "text"
      },
      "source": [
        "That's it. This is all you need to know to use Jupyter Notebooks. That said, we have more tips and tricks below ↓↓↓"
      ]
    },
    {
      "cell_type": "markdown",
      "metadata": {
        "id": "UjDy6Lw2vORL",
        "colab_type": "text"
      },
      "source": [
        "## Section 2: Going deeper"
      ]
    },
    {
      "cell_type": "markdown",
      "metadata": {
        "hide_input": false,
        "id": "brJjFyTlvORM",
        "colab_type": "text"
      },
      "source": [
        "### Markdown formatting"
      ]
    },
    {
      "cell_type": "markdown",
      "metadata": {
        "id": "KmuXxmVrvORM",
        "colab_type": "text"
      },
      "source": [
        "#### Italics, Bold, Strikethrough, Inline, Blockquotes and Links"
      ]
    },
    {
      "cell_type": "markdown",
      "metadata": {
        "id": "ehLsMCUpvORN",
        "colab_type": "text"
      },
      "source": [
        "The five most important concepts to format your code appropriately when using markdown are:\n",
        "    \n",
        "1. *Italics*: Surround your text with '\\_' or '\\*'\n",
        "2. **Bold**: Surround your text with '\\__' or '\\**'\n",
        "3. `inline`: Surround your text with '\\`'\n",
        "4.  > blockquote: Place '\\>' before your text.\n",
        "5.  [Links](https://course.fast.ai/): Surround the text you want to link with '\\[\\]' and place the link adjacent to the text, surrounded with '()'\n"
      ]
    },
    {
      "cell_type": "markdown",
      "metadata": {
        "id": "RmUlCog4vORO",
        "colab_type": "text"
      },
      "source": [
        "#### Headings"
      ]
    },
    {
      "cell_type": "markdown",
      "metadata": {
        "id": "7H0zqUG4vORO",
        "colab_type": "text"
      },
      "source": [
        "Notice that including a hashtag before the text in a markdown cell makes the text a heading. The number of hashtags you include will determine the priority of the header ('#' is level one, '##' is level two, '###' is level three and '####' is level four). We will add three new cells with the '+' button on the left to see how every level of heading looks."
      ]
    },
    {
      "cell_type": "markdown",
      "metadata": {
        "id": "EHoL0TAovORP",
        "colab_type": "text"
      },
      "source": [
        "Double click on some headings and find out what level they are!"
      ]
    },
    {
      "cell_type": "markdown",
      "metadata": {
        "id": "pKllX8s_vORQ",
        "colab_type": "text"
      },
      "source": [
        "#### Lists"
      ]
    },
    {
      "cell_type": "markdown",
      "metadata": {
        "id": "fCxaoShAvORQ",
        "colab_type": "text"
      },
      "source": [
        "There are three types of lists in markdown."
      ]
    },
    {
      "cell_type": "markdown",
      "metadata": {
        "id": "H7Vui4tovORR",
        "colab_type": "text"
      },
      "source": [
        "Ordered list:\n",
        "\n",
        "1. Step 1\n",
        "    2. Step 1B\n",
        "3. Step 3"
      ]
    },
    {
      "cell_type": "markdown",
      "metadata": {
        "id": "HTctAck4vORR",
        "colab_type": "text"
      },
      "source": [
        "Unordered list\n",
        "\n",
        "* learning rate\n",
        "* cycle length\n",
        "* weight decay"
      ]
    },
    {
      "cell_type": "markdown",
      "metadata": {
        "id": "Y1NNDLwAvORS",
        "colab_type": "text"
      },
      "source": [
        "Task list\n",
        "\n",
        "- [x] Learn Jupyter Notebooks\n",
        "    - [x] Writing\n",
        "    - [x] Modes\n",
        "    - [x] Other Considerations\n",
        "- [ ] Change the world"
      ]
    },
    {
      "cell_type": "markdown",
      "metadata": {
        "id": "F7OgG40evORT",
        "colab_type": "text"
      },
      "source": [
        "Double click on each to see how they are built! "
      ]
    },
    {
      "cell_type": "markdown",
      "metadata": {
        "id": "LyrZbiPZvORT",
        "colab_type": "text"
      },
      "source": [
        "### Code Capabilities"
      ]
    },
    {
      "cell_type": "markdown",
      "metadata": {
        "id": "ezMBYiNmvORU",
        "colab_type": "text"
      },
      "source": [
        "**Code** cells are different than **Markdown** cells in that they have an output cell. This means that we can _keep_ the results of our code within the notebook and share them. Let's say we want to show a graph that explains the result of an experiment. We can just run the necessary cells and save the notebook. The output will be there when we open it again! Try it out by running the next four cells."
      ]
    },
    {
      "cell_type": "code",
      "metadata": {
        "id": "6JMemSypvORU",
        "colab_type": "code",
        "colab": {}
      },
      "source": [
        "# Import necessary libraries\n",
        "from fastai.vision import * \n",
        "import matplotlib.pyplot as plt"
      ],
      "execution_count": 0,
      "outputs": []
    },
    {
      "cell_type": "code",
      "metadata": {
        "id": "UYL8TCx9vORX",
        "colab_type": "code",
        "colab": {}
      },
      "source": [
        "from PIL import Image"
      ],
      "execution_count": 0,
      "outputs": []
    },
    {
      "cell_type": "code",
      "metadata": {
        "id": "_cb36bXAvORZ",
        "colab_type": "code",
        "outputId": "286e7fce-7c93-4aff-8acb-3a5b326c0b93",
        "colab": {
          "base_uri": "https://localhost:8080/",
          "height": 34
        }
      },
      "source": [
        "a = 1\n",
        "b = a + 1\n",
        "c = b + a + 1\n",
        "d = c + b + a + 1\n",
        "a, b, c ,d"
      ],
      "execution_count": 0,
      "outputs": [
        {
          "output_type": "execute_result",
          "data": {
            "text/plain": [
              "(1, 2, 4, 8)"
            ]
          },
          "metadata": {
            "tags": []
          },
          "execution_count": 5
        }
      ]
    },
    {
      "cell_type": "code",
      "metadata": {
        "id": "YG0qv1DevORb",
        "colab_type": "code",
        "outputId": "1b6454ee-6518-485c-8589-0d91f86035a8",
        "colab": {
          "base_uri": "https://localhost:8080/",
          "height": 269
        }
      },
      "source": [
        "plt.plot([a,b,c,d])\n",
        "plt.show()"
      ],
      "execution_count": 0,
      "outputs": [
        {
          "output_type": "display_data",
          "data": {
            "image/png": "[encoded data removed]",
            "text/plain": [
              "<Figure size 432x288 with 1 Axes>"
            ]
          },
          "metadata": {
            "tags": []
          }
        }
      ]
    },
    {
      "cell_type": "markdown",
      "metadata": {
        "id": "3pGloPlHvORd",
        "colab_type": "text"
      },
      "source": [
        "We can also print images while experimenting. I am watching you."
      ]
    },
    {
      "cell_type": "code",
      "metadata": {
        "id": "N3b1BJSkvORe",
        "colab_type": "code",
        "colab": {}
      },
      "source": [
        "Image.open('images/notebook_tutorial/cat_example.jpg')"
      ],
      "execution_count": 0,
      "outputs": []
    },
    {
      "cell_type": "markdown",
      "metadata": {
        "id": "Op8vY681vORh",
        "colab_type": "text"
      },
      "source": [
        "### Running the app locally"
      ]
    },
    {
      "cell_type": "markdown",
      "metadata": {
        "id": "BWbDWAPRvORi",
        "colab_type": "text"
      },
      "source": [
        "You may be running Jupyter Notebook from an interactive coding environment like Gradient, Sagemaker or Salamander. You can also run a Jupyter Notebook server from your local computer. What's more, if you have installed Anaconda you don't even need to install Jupyter (if not, just `pip install jupyter`).\n",
        "\n",
        "You just need to run `jupyter notebook` in your terminal. Remember to run it from a folder that contains all the folders/files you will want to access. You will be able to open, view and edit files located within the directory in which you run this command but not files in parent directories.\n",
        "\n",
        "If a browser tab does not open automatically once you run the command, you should CTRL+CLICK the link starting with 'https://localhost:' and this will open a new tab in your default browser."
      ]
    },
    {
      "cell_type": "markdown",
      "metadata": {
        "id": "fmXi8CPEvORj",
        "colab_type": "text"
      },
      "source": [
        "### Creating a notebook"
      ]
    },
    {
      "cell_type": "markdown",
      "metadata": {
        "id": "osIB_TcZvORj",
        "colab_type": "text"
      },
      "source": [
        "Click on 'New' in the upper right corner and 'Python 3' in the drop-down list (we are going to use a [Python kernel](https://github.com/ipython/ipython) for all our experiments).\n",
        "\n",
        "![new_notebook](https://github.com/fastai/course-v3/blob/master/nbs/dl1/images/notebook_tutorial/new_notebook.png?raw=1)\n",
        "\n",
        "Note: You will sometimes hear people talking about the Notebook 'kernel'. The 'kernel' is just the Python engine that performs the computations for you. "
      ]
    },
    {
      "cell_type": "markdown",
      "metadata": {
        "id": "niKuCzU4vORk",
        "colab_type": "text"
      },
      "source": [
        "### Shortcuts and tricks"
      ]
    },
    {
      "cell_type": "markdown",
      "metadata": {
        "id": "Y0Um0puhvORl",
        "colab_type": "text"
      },
      "source": [
        "#### Command Mode Shortcuts"
      ]
    },
    {
      "cell_type": "markdown",
      "metadata": {
        "id": "h1GP13N_vORm",
        "colab_type": "text"
      },
      "source": [
        "There are a couple of useful keyboard shortcuts in `Command Mode` that you can leverage to make Jupyter Notebook faster to use. Remember that to switch back and forth between `Command Mode` and `Edit Mode` with <kbd>Esc</kbd> and <kbd>Enter</kbd>."
      ]
    },
    {
      "cell_type": "markdown",
      "metadata": {
        "id": "EnGk3rovvORn",
        "colab_type": "text"
      },
      "source": [
        "<kbd>m</kbd>: Convert cell to Markdown"
      ]
    },
    {
      "cell_type": "markdown",
      "metadata": {
        "id": "-1Wi7xp5vORn",
        "colab_type": "text"
      },
      "source": [
        "<kbd>y</kbd>: Convert cell to Code"
      ]
    },
    {
      "cell_type": "markdown",
      "metadata": {
        "id": "dc7pg9lIvORo",
        "colab_type": "text"
      },
      "source": [
        "<kbd>D</kbd>+<kbd>D</kbd>: Delete the cell(if it's not the only cell) or delete the content of the cell and reset cell to Code(if only one cell left)"
      ]
    },
    {
      "cell_type": "markdown",
      "metadata": {
        "id": "0p4jBi-fvORp",
        "colab_type": "text"
      },
      "source": [
        "<kbd>o</kbd>: Toggle between hide or show output"
      ]
    },
    {
      "cell_type": "markdown",
      "metadata": {
        "id": "CC4gZkNmvORq",
        "colab_type": "text"
      },
      "source": [
        "<kbd>Shift</kbd>+<kbd>Arrow up/Arrow down</kbd>: Selects multiple cells. Once you have selected them you can operate on them like a batch (run, copy, paste etc)."
      ]
    },
    {
      "cell_type": "markdown",
      "metadata": {
        "id": "o4ILOQy2vORs",
        "colab_type": "text"
      },
      "source": [
        "<kbd>Shift</kbd>+<kbd>M</kbd>: Merge selected cells."
      ]
    },
    {
      "cell_type": "markdown",
      "metadata": {
        "id": "FF_lmOVevORt",
        "colab_type": "text"
      },
      "source": [
        "<kbd>Shift</kbd>+<kbd>Tab</kbd>: [press these two buttons at the same time, once] Tells you which parameters to pass on a function\n",
        "<kbd>Shift</kbd>+<kbd>Tab</kbd>: [press these two buttons at the same time, three times] Gives additional information on the method"
      ]
    },
    {
      "cell_type": "markdown",
      "metadata": {
        "id": "eZ2NkmBDvORv",
        "colab_type": "text"
      },
      "source": [
        "#### Cell Tricks"
      ]
    },
    {
      "cell_type": "code",
      "metadata": {
        "id": "KxsvYLxqvORw",
        "colab_type": "code",
        "colab": {}
      },
      "source": [
        "from fastai import*\n",
        "from fastai.vision import *"
      ],
      "execution_count": 0,
      "outputs": []
    },
    {
      "cell_type": "markdown",
      "metadata": {
        "id": "e2ISJLnVvORz",
        "colab_type": "text"
      },
      "source": [
        "There are also some tricks that you can code into a cell."
      ]
    },
    {
      "cell_type": "markdown",
      "metadata": {
        "id": "a4zVCDL5vOR0",
        "colab_type": "text"
      },
      "source": [
        "`?function-name`: Shows the definition and docstring for that function"
      ]
    },
    {
      "cell_type": "code",
      "metadata": {
        "id": "UCtyifJTvOR0",
        "colab_type": "code",
        "colab": {}
      },
      "source": [
        "?ImageDataBunch"
      ],
      "execution_count": 0,
      "outputs": []
    },
    {
      "cell_type": "markdown",
      "metadata": {
        "id": "cdomPk19vOR2",
        "colab_type": "text"
      },
      "source": [
        "`??function-name`: Shows the source code for that function"
      ]
    },
    {
      "cell_type": "code",
      "metadata": {
        "id": "oD7A0398vOR3",
        "colab_type": "code",
        "colab": {}
      },
      "source": [
        "??ImageDataBunch"
      ],
      "execution_count": 0,
      "outputs": []
    },
    {
      "cell_type": "markdown",
      "metadata": {
        "id": "iXu6n_k-vOR5",
        "colab_type": "text"
      },
      "source": [
        "`doc(function-name)`: Shows the definition, docstring **and links to the documentation** of the function\n",
        "(only works with fastai library imported)"
      ]
    },
    {
      "cell_type": "code",
      "metadata": {
        "id": "A1qv6SJ4vOR5",
        "colab_type": "code",
        "outputId": "7714860a-ebc1-41c2-93e9-9ec3311a4e5b",
        "colab": {
          "base_uri": "https://localhost:8080/",
          "height": 214
        }
      },
      "source": [
        "doc(ImageDataBunch)"
      ],
      "execution_count": 0,
      "outputs": [
        {
          "output_type": "display_data",
          "data": {
            "text/html": [
              "<h2 id=\"ImageDataBunch\" class=\"doc_header\"><code>class</code> <code>ImageDataBunch</code><a href=\"https://github.com/fastai/fastai/blob/master/fastai/vision/data.py#L85\" class=\"source_link\" style=\"float:right\">[source]</a><a class=\"source_link\" data-toggle=\"collapse\" data-target=\"#ImageDataBunch-pytest\" style=\"float:right; padding-right:10px\">[test]</a></h2><blockquote><p><code>ImageDataBunch</code>(<strong><code>train_dl</code></strong>:<a href=\"https://pytorch.org/docs/stable/data.html#torch.utils.data.DataLoader\"><code>DataLoader</code></a>, <strong><code>valid_dl</code></strong>:<a href=\"https://pytorch.org/docs/stable/data.html#torch.utils.data.DataLoader\"><code>DataLoader</code></a>, <strong><code>fix_dl</code></strong>:<a href=\"https://pytorch.org/docs/stable/data.html#torch.utils.data.DataLoader\"><code>DataLoader</code></a>=<strong><em><code>None</code></em></strong>, <strong><code>test_dl</code></strong>:<code>Optional</code>[<a href=\"https://pytorch.org/docs/stable/data.html#torch.utils.data.DataLoader\"><code>DataLoader</code></a>]=<strong><em><code>None</code></em></strong>, <strong><code>device</code></strong>:<a href=\"https://pytorch.org/docs/stable/tensor_attributes.html#torch-device\"><code>device</code></a>=<strong><em><code>None</code></em></strong>, <strong><code>dl_tfms</code></strong>:<code>Optional</code>[<code>Collection</code>[<code>Callable</code>]]=<strong><em><code>None</code></em></strong>, <strong><code>path</code></strong>:<code>PathOrStr</code>=<strong><em><code>'.'</code></em></strong>, <strong><code>collate_fn</code></strong>:<code>Callable</code>=<strong><em><code>'data_collate'</code></em></strong>, <strong><code>no_check</code></strong>:<code>bool</code>=<strong><em><code>False</code></em></strong>) :: <a href=\"https://docs.fast.ai/basic_data.html#DataBunch\"><code>DataBunch</code></a></p>\n",
              "</blockquote>\n",
              "<div class=\"collapse\" id=\"ImageDataBunch-pytest\"><div class=\"card card-body pytest_card\"><a type=\"button\" data-toggle=\"collapse\" data-target=\"#ImageDataBunch-pytest\" class=\"close\" aria-label=\"Close\"><span aria-hidden=\"true\">&times;</span></a><p>No tests found for <code>ImageDataBunch</code>. To contribute a test please refer to <a href=\"/dev/test.html\">this guide</a> and <a href=\"https://forums.fast.ai/t/improving-expanding-functional-tests/32929\">this discussion</a>.</p></div></div><p>DataBunch suitable for computer vision.</p>\n",
              "<p><a href=\"https://docs.fast.ai/vision.data.html#ImageDataBunch\" target=\"_blank\" rel=\"noreferrer noopener\">Show in docs</a></p>\n"
            ],
            "text/plain": [
              "<IPython.core.display.HTML object>"
            ]
          },
          "metadata": {
            "tags": []
          }
        }
      ]
    },
    {
      "cell_type": "markdown",
      "metadata": {
        "id": "NYspWe9jvOR8",
        "colab_type": "text"
      },
      "source": [
        "#### Line Magics"
      ]
    },
    {
      "cell_type": "markdown",
      "metadata": {
        "id": "7Mp1MwYxvOR9",
        "colab_type": "text"
      },
      "source": [
        "Line magics are functions that you can run on cells and take as an argument the rest of the line from where they are called. You call them by placing a '%' sign before the command. The most useful ones are:"
      ]
    },
    {
      "cell_type": "markdown",
      "metadata": {
        "id": "Inm18xBhvOR9",
        "colab_type": "text"
      },
      "source": [
        "`%matplotlib inline`: This command ensures that all matplotlib plots will be plotted in the output cell within the notebook and will be kept in the notebook when saved."
      ]
    },
    {
      "cell_type": "markdown",
      "metadata": {
        "id": "S5YRdbl1vOR-",
        "colab_type": "text"
      },
      "source": [
        "`%reload_ext autoreload`, `%autoreload 2`: Reload all modules before executing a new line. If a module is edited, it is not necessary to rerun the import commands, the modules will be reloaded automatically."
      ]
    },
    {
      "cell_type": "markdown",
      "metadata": {
        "id": "r9tJtnnjvOR_",
        "colab_type": "text"
      },
      "source": [
        "These three commands are always called together at the beginning of every notebook."
      ]
    },
    {
      "cell_type": "code",
      "metadata": {
        "id": "Qlr4oAQMvOSA",
        "colab_type": "code",
        "colab": {}
      },
      "source": [
        "%matplotlib inline\n",
        "%reload_ext autoreload\n",
        "%autoreload 2"
      ],
      "execution_count": 0,
      "outputs": []
    },
    {
      "cell_type": "markdown",
      "metadata": {
        "id": "pAn8V22_vOSC",
        "colab_type": "text"
      },
      "source": [
        "`%timeit`: Runs a line a ten thousand times and displays the average time it took to run it."
      ]
    },
    {
      "cell_type": "code",
      "metadata": {
        "id": "CN2TJsHOvOSC",
        "colab_type": "code",
        "outputId": "19d1ef95-0c6f-4331-ec76-037dae8538a7",
        "colab": {
          "base_uri": "https://localhost:8080/",
          "height": 34
        }
      },
      "source": [
        "%timeit [i+1 for i in range(1000)]"
      ],
      "execution_count": 0,
      "outputs": [
        {
          "output_type": "stream",
          "text": [
            "10000 loops, best of 3: 49.3 µs per loop\n"
          ],
          "name": "stdout"
        }
      ]
    },
    {
      "cell_type": "markdown",
      "metadata": {
        "id": "FF-CZ6q4vOSF",
        "colab_type": "text"
      },
      "source": [
        "`%debug`: Allows to inspect a function which is showing an error using the [Python debugger](https://docs.python.org/3/library/pdb.html)."
      ]
    },
    {
      "cell_type": "code",
      "metadata": {
        "id": "IHdvvwUEvOSF",
        "colab_type": "code",
        "outputId": "037af378-15d2-4971-9f60-fa251b9940ec",
        "colab": {
          "base_uri": "https://localhost:8080/",
          "height": 198
        }
      },
      "source": [
        "for i in range(1000):\n",
        "    a = i+1\n",
        "    b = 'string'\n",
        "    c = b+1"
      ],
      "execution_count": 0,
      "outputs": [
        {
          "output_type": "error",
          "ename": "TypeError",
          "evalue": "ignored",
          "traceback": [
            "\u001b[0;31m---------------------------------------------------------------------------\u001b[0m",
            "\u001b[0;31mTypeError\u001b[0m                                 Traceback (most recent call last)",
            "\u001b[0;32m<ipython-input-14-8d78ff778454>\u001b[0m in \u001b[0;36m<module>\u001b[0;34m()\u001b[0m\n\u001b[1;32m      2\u001b[0m     \u001b[0ma\u001b[0m \u001b[0;34m=\u001b[0m \u001b[0mi\u001b[0m\u001b[0;34m+\u001b[0m\u001b[0;36m1\u001b[0m\u001b[0;34m\u001b[0m\u001b[0;34m\u001b[0m\u001b[0m\n\u001b[1;32m      3\u001b[0m     \u001b[0mb\u001b[0m \u001b[0;34m=\u001b[0m \u001b[0;34m'string'\u001b[0m\u001b[0;34m\u001b[0m\u001b[0;34m\u001b[0m\u001b[0m\n\u001b[0;32m----> 4\u001b[0;31m     \u001b[0mc\u001b[0m \u001b[0;34m=\u001b[0m \u001b[0mb\u001b[0m\u001b[0;34m+\u001b[0m\u001b[0;36m1\u001b[0m\u001b[0;34m\u001b[0m\u001b[0;34m\u001b[0m\u001b[0m\n\u001b[0m",
            "\u001b[0;31mTypeError\u001b[0m: must be str, not int"
          ]
        }
      ]
    },
    {
      "cell_type": "code",
      "metadata": {
        "id": "whRjaj2YvOSI",
        "colab_type": "code",
        "outputId": "ce05df7b-9000-479f-9ae5-e5b144a31b40",
        "colab": {
          "base_uri": "https://localhost:8080/",
          "height": 357
        }
      },
      "source": [
        "%debug"
      ],
      "execution_count": 0,
      "outputs": [
        {
          "output_type": "stream",
          "text": [
            "> \u001b[0;32m<ipython-input-14-8d78ff778454>\u001b[0m(4)\u001b[0;36m<module>\u001b[0;34m()\u001b[0m\n",
            "\u001b[0;32m      1 \u001b[0;31m\u001b[0;32mfor\u001b[0m \u001b[0mi\u001b[0m \u001b[0;32min\u001b[0m \u001b[0mrange\u001b[0m\u001b[0;34m(\u001b[0m\u001b[0;36m1000\u001b[0m\u001b[0;34m)\u001b[0m\u001b[0;34m:\u001b[0m\u001b[0;34m\u001b[0m\u001b[0;34m\u001b[0m\u001b[0m\n",
            "\u001b[0m\u001b[0;32m      2 \u001b[0;31m    \u001b[0ma\u001b[0m \u001b[0;34m=\u001b[0m \u001b[0mi\u001b[0m\u001b[0;34m+\u001b[0m\u001b[0;36m1\u001b[0m\u001b[0;34m\u001b[0m\u001b[0;34m\u001b[0m\u001b[0m\n",
            "\u001b[0m\u001b[0;32m      3 \u001b[0;31m    \u001b[0mb\u001b[0m \u001b[0;34m=\u001b[0m \u001b[0;34m'string'\u001b[0m\u001b[0;34m\u001b[0m\u001b[0;34m\u001b[0m\u001b[0m\n",
            "\u001b[0m\u001b[0;32m----> 4 \u001b[0;31m    \u001b[0mc\u001b[0m \u001b[0;34m=\u001b[0m \u001b[0mb\u001b[0m\u001b[0;34m+\u001b[0m\u001b[0;36m1\u001b[0m\u001b[0;34m\u001b[0m\u001b[0;34m\u001b[0m\u001b[0m\n",
            "\u001b[0m\n",
            "ipdb> 1\n",
            "1\n",
            "ipdb> 2\n",
            "2\n",
            "ipdb> \n",
            "2\n",
            "ipdb> \n",
            "2\n",
            "ipdb> \n",
            "2\n",
            "--KeyboardInterrupt--\n",
            "--KeyboardInterrupt--\n",
            "ipdb> \u0004\n",
            "\n"
          ],
          "name": "stdout"
        }
      ]
    }
  ]
}